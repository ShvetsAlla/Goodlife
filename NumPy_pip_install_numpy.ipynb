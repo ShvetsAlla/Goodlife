{
  "nbformat": 4,
  "nbformat_minor": 0,
  "metadata": {
    "colab": {
      "provenance": [],
      "authorship_tag": "ABX9TyNsR3ryJGovc7sMK7gOjlpO",
      "include_colab_link": true
    },
    "kernelspec": {
      "name": "python3",
      "display_name": "Python 3"
    },
    "language_info": {
      "name": "python"
    }
  },
  "cells": [
    {
      "cell_type": "markdown",
      "metadata": {
        "id": "view-in-github",
        "colab_type": "text"
      },
      "source": [
        "<a href=\"https://colab.research.google.com/github/ShvetsAlla/repo1/blob/main/NumPy_pip_install_numpy.ipynb\" target=\"_parent\"><img src=\"https://colab.research.google.com/assets/colab-badge.svg\" alt=\"Open In Colab\"/></a>"
      ]
    },
    {
      "cell_type": "code",
      "execution_count": 1,
      "metadata": {
        "id": "bQSzKq0SlBib"
      },
      "outputs": [],
      "source": [
        "import numpy as np\n"
      ]
    },
    {
      "cell_type": "code",
      "source": [
        "# бібліотека NumPy - це основна бібліотека для наукових обчислень у Python.\n",
        "\n",
        "# Об'єкт ndarray в NumPy -  це  ключовий об'єкт у бібліотеці NumPy.\n",
        "# ndarray є скороченням від \"n-dimensional array\", що означає \"багатовимірний масив\".\n",
        "# Це основний тип даних, який використовується в NumPy для зберігання і обробки багатовимірних масивів.\n",
        "# ndarray не є вбудованим типом даних у Python, як, наприклад, int, float, або list.\n",
        "# Натомість, ndarray є типом, який надається бібліотекою NumPy, спеціалізованою бібліотекою для наукових обчислень у Python.\n",
        "\n",
        "# np.array - це функція в NumPy, яка використовується для створення нових об'єктів ndarray.\n",
        "# Коли ви створюєте масив за допомогою np.array, ви отримуєте екземпляр ndarray."
      ],
      "metadata": {
        "id": "bxWwi93flHjQ"
      },
      "execution_count": 2,
      "outputs": []
    },
    {
      "cell_type": "code",
      "source": [
        "import numpy as np # стандартний еліас для numpy - np\n",
        "# create a 1D array from a list\n",
        "a = np.array([1, 2, 3, 4, 5], dtype=float)\n",
        "\n",
        "print(a)  # [1. 2. 3. 4. 5.]\n",
        "a+5"
      ],
      "metadata": {
        "colab": {
          "base_uri": "https://localhost:8080/"
        },
        "id": "YYAwPTqFlHs6",
        "outputId": "b02f42eb-c3ec-4cf1-ce31-7faaf8420eaa"
      },
      "execution_count": 3,
      "outputs": [
        {
          "output_type": "stream",
          "name": "stdout",
          "text": [
            "[1. 2. 3. 4. 5.]\n"
          ]
        },
        {
          "output_type": "execute_result",
          "data": {
            "text/plain": [
              "array([ 6.,  7.,  8.,  9., 10.])"
            ]
          },
          "metadata": {},
          "execution_count": 3
        }
      ]
    },
    {
      "cell_type": "code",
      "source": [
        "np.array([1, 2, 3, 4, 5])"
      ],
      "metadata": {
        "colab": {
          "base_uri": "https://localhost:8080/"
        },
        "id": "RPsJDzu_lHz7",
        "outputId": "d682f602-e243-44b9-c7ae-545fd78bad77"
      },
      "execution_count": 4,
      "outputs": [
        {
          "output_type": "execute_result",
          "data": {
            "text/plain": [
              "array([1, 2, 3, 4, 5])"
            ]
          },
          "metadata": {},
          "execution_count": 4
        }
      ]
    },
    {
      "cell_type": "code",
      "source": [
        "# create a 2d array\n",
        "m = np.array([[1, 2, 3], [4, 5, 6]], dtype=int)\n",
        "\n",
        "print(m)"
      ],
      "metadata": {
        "colab": {
          "base_uri": "https://localhost:8080/"
        },
        "id": "mBYja5cOlWQa",
        "outputId": "4118fc7f-9e18-45ec-a5fd-d0662b0cc971"
      },
      "execution_count": 5,
      "outputs": [
        {
          "output_type": "stream",
          "name": "stdout",
          "text": [
            "[[1 2 3]\n",
            " [4 5 6]]\n"
          ]
        }
      ]
    },
    {
      "cell_type": "code",
      "source": [
        "a = np.array([1, 2, 3, 4, 5], dtype=float)\n",
        "m = np.array([[1, 2, 3], [4, 5, 6]], dtype=int)\n",
        "\n",
        "# Розмірність створеного вектора та матриці можна подивитися за допомогою атрибуту shape.Розмірність - це кортеж, який містить кількість елементів у кожному розмірі масиву.\n",
        "print(a.shape)  # (5,)\n",
        "print(m.shape)  # (2, 3)\n",
        "\n",
        "# size - це атрибут, який містить загальну кількість елементів у масиві.\n",
        "print(a.size)\n",
        "print(m.size)\n",
        "\n",
        "# dtype - це атрибут, який містить тип даних, який зберігається в масиві.\n",
        "print(a.dtype)\n",
        "print(m.dtype)"
      ],
      "metadata": {
        "colab": {
          "base_uri": "https://localhost:8080/"
        },
        "id": "wIj96rfdlWU0",
        "outputId": "85fdcb0d-6032-4cde-acce-947fd1d5f3c7"
      },
      "execution_count": 7,
      "outputs": [
        {
          "output_type": "stream",
          "name": "stdout",
          "text": [
            "(5,)\n",
            "(2, 3)\n",
            "5\n",
            "6\n",
            "float64\n",
            "int64\n"
          ]
        }
      ]
    },
    {
      "cell_type": "code",
      "source": [
        "# Щоб створити масив з випадковими числами, використовуйте функцію random.\n",
        "import numpy as np\n",
        "\n",
        "a = np.random.random(3) # 3 випадкових числа від 0 до 1\n",
        "b = np.random.random((3, 3)) # 3 випадкових числа від 0 до 1\n",
        "print(a , '\\n')\n",
        "print(b)"
      ],
      "metadata": {
        "colab": {
          "base_uri": "https://localhost:8080/"
        },
        "id": "15X7xBLslH4F",
        "outputId": "d3d2faee-6f2b-4268-a08c-02a863d9eb26"
      },
      "execution_count": 9,
      "outputs": [
        {
          "output_type": "stream",
          "name": "stdout",
          "text": [
            "[0.17948663 0.04626227 0.9656983 ] \n",
            "\n",
            "[[0.22337867 0.55415139 0.80802829]\n",
            " [0.26068288 0.74709374 0.67411242]\n",
            " [0.07588755 0.94774924 0.10784789]]\n"
          ]
        }
      ]
    },
    {
      "cell_type": "code",
      "source": [
        "# Щоб створити масив з одиниць, використовуйте функцію ones.\n",
        "import numpy as np\n",
        "\n",
        "a = np.ones((5,), dtype=float)\n",
        "print(a)\n",
        "\n",
        "m = np.ones((2, 3), dtype=int)\n",
        "print(m)"
      ],
      "metadata": {
        "colab": {
          "base_uri": "https://localhost:8080/"
        },
        "id": "euNRKh7Vlpvk",
        "outputId": "e501d44e-59a1-43c7-9fa2-47a16470fc09"
      },
      "execution_count": 10,
      "outputs": [
        {
          "output_type": "stream",
          "name": "stdout",
          "text": [
            "[1. 1. 1. 1. 1.]\n",
            "[[1 1 1]\n",
            " [1 1 1]]\n"
          ]
        }
      ]
    },
    {
      "cell_type": "code",
      "source": [
        "# Щоб створити масив з нулів, використовуйте функцію zeros.\n",
        "import numpy as np\n",
        "\n",
        "a = np.zeros(5, dtype=float)\n",
        "print(a)\n",
        "\n",
        "m = np.zeros((2, 3), dtype=int)\n",
        "print(m)"
      ],
      "metadata": {
        "colab": {
          "base_uri": "https://localhost:8080/"
        },
        "id": "CG6wv6FAlp3o",
        "outputId": "187d439e-00fa-442b-d957-88aac6ad64db"
      },
      "execution_count": 11,
      "outputs": [
        {
          "output_type": "stream",
          "name": "stdout",
          "text": [
            "[0. 0. 0. 0. 0.]\n",
            "[[0 0 0]\n",
            " [0 0 0]]\n"
          ]
        }
      ]
    },
    {
      "cell_type": "code",
      "source": [
        "# Щоб створити одиничну матрицю, використовуйте функцію eye.\n",
        "m = np.identity(4, dtype=int)\n",
        "print(m)"
      ],
      "metadata": {
        "colab": {
          "base_uri": "https://localhost:8080/"
        },
        "id": "nudoFBYQlp93",
        "outputId": "6e9bef4e-1ffd-4d3f-c979-867340c1e8a0"
      },
      "execution_count": 12,
      "outputs": [
        {
          "output_type": "stream",
          "name": "stdout",
          "text": [
            "[[1 0 0 0]\n",
            " [0 1 0 0]\n",
            " [0 0 1 0]\n",
            " [0 0 0 1]]\n"
          ]
        }
      ]
    },
    {
      "cell_type": "code",
      "source": [
        "# Щоб створити масив з послідовністю чисел, використовуйте функцію arange.\n",
        "import numpy as np\n",
        "\n",
        "a = np.arange(5) # 5 послідовних чисел починаючи з 0\n",
        "b = np.arange(1, 3, 0.5) # послідовність чисел від 1 до 3 з кроком 0.5\n",
        "print(a)\n",
        "print(b)"
      ],
      "metadata": {
        "colab": {
          "base_uri": "https://localhost:8080/"
        },
        "id": "EE09M63mlqGr",
        "outputId": "09869fca-229b-47a2-a8ae-8028bc8629da"
      },
      "execution_count": 13,
      "outputs": [
        {
          "output_type": "stream",
          "name": "stdout",
          "text": [
            "[0 1 2 3 4]\n",
            "[1.  1.5 2.  2.5]\n"
          ]
        }
      ]
    },
    {
      "cell_type": "code",
      "source": [
        "# Щоб створити масив з рівномірно розподіленими числами, використовуйте функцію linspace.\n",
        "# Ця функція приймає три аргументи: початок послідовності, кінець послідовності, кількість елементів.\n",
        "# По замовчуванню кількість елементів дорівнює 50.\n",
        "import numpy as np\n",
        "\n",
        "a = np.linspace(1, 5, num=5) # 5 рівномірно розподілених чисел від 1 до 5\n",
        "b = np.linspace(1, 3, num=3) # 3 рівномірно розподілених чисел від 1 до 3\n",
        "print(a)\n",
        "print(b)"
      ],
      "metadata": {
        "colab": {
          "base_uri": "https://localhost:8080/"
        },
        "id": "PICITbFNl5Zn",
        "outputId": "2184a008-8de5-4b79-d5f1-ab6ffc4985ed"
      },
      "execution_count": 14,
      "outputs": [
        {
          "output_type": "stream",
          "name": "stdout",
          "text": [
            "[1. 2. 3. 4. 5.]\n",
            "[1. 2. 3.]\n"
          ]
        }
      ]
    },
    {
      "cell_type": "code",
      "source": [
        "# Масив NumPy можна розділити на частини та присвоїти їм індекси. Принцип роботи схожий на те, як це відбувається зі списками Python.\n",
        "\n",
        "import numpy as np\n",
        "\n",
        "a = np.array([1, 2, 3, 4, 5])\n",
        "print(a[0]) # перший елемент\n",
        "print(a[1:]) # з другого елемента до кінця\n",
        "print(a[:2]) # з початку до другого елемента"
      ],
      "metadata": {
        "colab": {
          "base_uri": "https://localhost:8080/"
        },
        "id": "ZrwWhw3Ul5fH",
        "outputId": "0b755434-815e-4b7d-c9a2-f21eed61f6c2"
      },
      "execution_count": 15,
      "outputs": [
        {
          "output_type": "stream",
          "name": "stdout",
          "text": [
            "1\n",
            "[2 3 4 5]\n",
            "[1 2]\n"
          ]
        }
      ]
    },
    {
      "cell_type": "code",
      "source": [
        "import numpy as np\n",
        "\n",
        "a = np.array([[1, 2, 3], [4, 5, 6], [7, 8, 9]])\n",
        "\n",
        "print(a[0])     # перший рядок\n",
        "print(a[0][0:2])  # перший рядок, перші два елементи\n",
        "print(a[0][0])  # перший рядок, перший елемент\n",
        "print('\\n')\n",
        "print(a[1, 1]) # другий рядок, другий елемент\n",
        "print(a[1:, 1]) # з другого рядка, другий елемент\n",
        "print(a[0, :2]) # перший рядок, перші два елементи"
      ],
      "metadata": {
        "colab": {
          "base_uri": "https://localhost:8080/"
        },
        "id": "k3w8r0zWl5jM",
        "outputId": "8117d5f6-51b0-40ce-b517-65fcbe6fc0fd"
      },
      "execution_count": 16,
      "outputs": [
        {
          "output_type": "stream",
          "name": "stdout",
          "text": [
            "[1 2 3]\n",
            "[1 2]\n",
            "1\n",
            "\n",
            "\n",
            "5\n",
            "[5 8]\n",
            "[1 2]\n"
          ]
        }
      ]
    },
    {
      "cell_type": "code",
      "source": [
        "# за індексом можна задати елемент масива\n",
        "print(a)\n",
        "a[0, 0] = 10\n",
        "print(a)"
      ],
      "metadata": {
        "colab": {
          "base_uri": "https://localhost:8080/"
        },
        "id": "HApIQy_Cl5nq",
        "outputId": "d133a1d2-730b-4788-e0fa-85bc6e390cf8"
      },
      "execution_count": 17,
      "outputs": [
        {
          "output_type": "stream",
          "name": "stdout",
          "text": [
            "[[1 2 3]\n",
            " [4 5 6]\n",
            " [7 8 9]]\n",
            "[[10  2  3]\n",
            " [ 4  5  6]\n",
            " [ 7  8  9]]\n"
          ]
        }
      ]
    },
    {
      "cell_type": "code",
      "source": [],
      "metadata": {
        "id": "JET-QpZZlH7M"
      },
      "execution_count": null,
      "outputs": []
    }
  ]
}
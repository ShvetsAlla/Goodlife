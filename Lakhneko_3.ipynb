{
  "nbformat": 4,
  "nbformat_minor": 0,
  "metadata": {
    "colab": {
      "provenance": []
    },
    "kernelspec": {
      "name": "python3",
      "display_name": "Python 3"
    },
    "language_info": {
      "name": "python"
    }
  },
  "cells": [
    {
      "cell_type": "code",
      "source": [
        "import pandas as pd\n"
      ],
      "metadata": {
        "id": "iQ6az9yOK7wE"
      },
      "execution_count": 6,
      "outputs": []
    },
    {
      "cell_type": "code",
      "source": [
        "file_path = '/content/survey_results_public.csv'\n",
        "df = pd.read_csv(file_path)"
      ],
      "metadata": {
        "id": "mduKU8goK8T8"
      },
      "execution_count": 12,
      "outputs": []
    },
    {
      "cell_type": "code",
      "source": [
        "#Скільки респондентів пройшли опитування?\n",
        "total_respondents = len(df)"
      ],
      "metadata": {
        "id": "7FuVMj2FSouy"
      },
      "execution_count": 13,
      "outputs": []
    },
    {
      "cell_type": "code",
      "source": [
        "#Скільки респондентів відповіли на всі запитання?\n",
        "respondents_with_all_answers = df.dropna().shape[0]"
      ],
      "metadata": {
        "id": "AWUJQ5PrSwZU"
      },
      "execution_count": 16,
      "outputs": []
    },
    {
      "cell_type": "code",
      "source": [
        "# Які значення мір центральної тенденції для досвіду (WorkExp) респондентів?\n",
        "workexp_mean = df['WorkExp'].mean()\n",
        "workexp_median = df['WorkExp'].median()"
      ],
      "metadata": {
        "id": "TVfgrFeaTC95"
      },
      "execution_count": 17,
      "outputs": []
    },
    {
      "cell_type": "code",
      "source": [
        "# Скільки респондентів працює віддалено?\n",
        "remote_work_count = df['RemoteWork'].value_counts().get('Yes', 0)"
      ],
      "metadata": {
        "id": "021c0ffHTE4l"
      },
      "execution_count": 18,
      "outputs": []
    },
    {
      "cell_type": "code",
      "source": [
        "# Перевірка, чи є стовпець 'LanguageHaveWorkedWith'\n",
        "if 'LanguageHaveWorkedWith' in df.columns:\n",
        "# Розрахунок відсотку респондентів, які програмують на Python\n",
        "python_users_percentage = (df['LanguageHaveWorkedWith'].str.contains('Python', na=False, case=False).sum() / len(df)) * 100\n",
        ""
      ],
      "metadata": {
        "id": "tOtH7rckXfsd"
      },
      "execution_count": 37,
      "outputs": []
    },
    {
      "cell_type": "code",
      "source": [
        "# Скільки респондентів навчалося програмувати за допомогою онлайн курсів?\n",
        "online_courses_learners = df['LearnCodeOnline'].str.contains('Yes', case=False).sum()\n"
      ],
      "metadata": {
        "id": "Nc7UP2HoTFaq"
      },
      "execution_count": 28,
      "outputs": []
    },
    {
      "cell_type": "code",
      "source": [
        "# Серед респондентів що програмують на Python в групуванні по країнам,\n",
        "# яка середня та медіанна сума компенсації (ConvertedCompYearly) в кожній країні?\n",
        "python_users = df[df['LanguageHaveWorkedWith'].str.contains('Python', na=False, case=False)]\n",
        "\n",
        "# Використовуйте 'agg' для обчислення середнього та медіанного значень суми компенсації\n",
        "python_users_stats = python_users.groupby('Country')['ConvertedCompYearly'].agg(['mean', 'median'])\n"
      ],
      "metadata": {
        "id": "q05PHwWOTFuO"
      },
      "execution_count": 29,
      "outputs": []
    },
    {
      "cell_type": "code",
      "source": [
        "print(df.columns)\n"
      ],
      "metadata": {
        "colab": {
          "base_uri": "https://localhost:8080/"
        },
        "id": "Hri4LV50T6LV",
        "outputId": "dbbab629-1020-40be-bc51-fbf1cdf89183"
      },
      "execution_count": 32,
      "outputs": [
        {
          "output_type": "stream",
          "name": "stdout",
          "text": [
            "Index(['ResponseId', 'Q120', 'MainBranch', 'Age', 'Employment', 'RemoteWork',\n",
            "       'CodingActivities', 'EdLevel', 'LearnCode', 'LearnCodeOnline',\n",
            "       'LearnCodeCoursesCert', 'YearsCode', 'YearsCodePro', 'DevType',\n",
            "       'OrgSize', 'PurchaseInfluence', 'TechList', 'BuyNewTool', 'Country',\n",
            "       'Currency', 'CompTotal', 'LanguageHaveWorkedWith',\n",
            "       'LanguageWantToWorkWith', 'DatabaseHaveWorkedWith',\n",
            "       'DatabaseWantToWorkWith', 'PlatformHaveWorkedWith',\n",
            "       'PlatformWantToWorkWith', 'WebframeHaveWorkedWith',\n",
            "       'WebframeWantToWorkWith', 'MiscTechHaveWorkedWith',\n",
            "       'MiscTechWantToWorkWith', 'ToolsTechHaveWorkedWith',\n",
            "       'ToolsTechWantToWorkWith', 'NEWCollabToolsHaveWorkedWith',\n",
            "       'NEWCollabToolsWantToWorkWith', 'OpSysPersonal use',\n",
            "       'OpSysProfessional use', 'OfficeStackAsyncHaveWorkedWith',\n",
            "       'OfficeStackAsyncWantToWorkWith', 'OfficeStackSyncHaveWorkedWith',\n",
            "       'OfficeStackSyncWantToWorkWith', 'AISearchHaveWorkedWith',\n",
            "       'AISearchWantToWorkWith', 'AIDevHaveWorkedWith', 'AIDevWantToWorkWith',\n",
            "       'NEWSOSites', 'SOVisitFreq', 'SOAccount', 'SOPartFreq', 'SOComm',\n",
            "       'SOAI', 'AISelect', 'AISent', 'AIAcc', 'AIBen',\n",
            "       'AIToolInterested in Using', 'AIToolCurrently Using',\n",
            "       'AIToolNot interested in Using', 'AINextVery different',\n",
            "       'AINextNeither different nor similar', 'AINextSomewhat similar',\n",
            "       'AINextVery similar', 'AINextSomewhat different', 'TBranch', 'ICorPM',\n",
            "       'WorkExp', 'Knowledge_1', 'Knowledge_2', 'Knowledge_3', 'Knowledge_4',\n",
            "       'Knowledge_5', 'Knowledge_6', 'Knowledge_7', 'Knowledge_8',\n",
            "       'Frequency_1', 'Frequency_2', 'Frequency_3', 'TimeSearching',\n",
            "       'TimeAnswering', 'ProfessionalTech', 'Industry', 'SurveyLength',\n",
            "       'SurveyEase', 'ConvertedCompYearly'],\n",
            "      dtype='object')\n"
          ]
        }
      ]
    },
    {
      "cell_type": "code",
      "source": [
        "# Перетворення стовпця 'ConvertedCompYearly' на числовий формат, якщо він не є числовим\n",
        "df['ConvertedCompYearly'] = pd.to_numeric(df['ConvertedCompYearly'], errors='coerce')\n",
        "\n",
        "# Вибір топ-5 рівнів освіти з найбільшою компенсацією\n",
        "top_5_education_levels = df.nlargest(5, 'ConvertedCompYearly')['EdLevel']"
      ],
      "metadata": {
        "id": "lAYsCvM8W5NK"
      },
      "execution_count": 33,
      "outputs": []
    },
    {
      "cell_type": "code",
      "source": [
        "# Виведення результатів\n",
        "print(f\"1. Кількість респондентів: {total_respondents}\")\n",
        "print(f\"2. Кількість респондентів із заповненими відповідями: {respondents_with_all_answers}\")\n",
        "print(f\"3. Середнє значення досвіду: {workexp_mean}, Медіана досвіду: {workexp_median}\")\n",
        "print(f\"4. Кількість респондентів, які працюють віддалено: {remote_work_count}\")\n",
        "print(f\"5. Відсоток респондентів, які програмують на Python: {python_users_percentage:.2f}%\")\n",
        "print(f\"6. Кількість респондентів, які навчалися програмувати за допомогою онлайн курсів: {online_courses_learners}\")\n",
        "print(\"7. Середня та медіанна сума компенсації для респондентів, які програмують на Python за країнами:\")\n",
        "print(python_users_stats)\n",
        "print(f\"8. Рівні освіти 5 респондентів з найбільшою компенсацією: {top_5_education_levels}\")"
      ],
      "metadata": {
        "colab": {
          "base_uri": "https://localhost:8080/"
        },
        "id": "MRKMehTxUkNy",
        "outputId": "aa3d7bf5-3758-480e-f5d5-6742d0bd8c6a"
      },
      "execution_count": 38,
      "outputs": [
        {
          "output_type": "stream",
          "name": "stdout",
          "text": [
            "1. Кількість респондентів: 10549\n",
            "2. Кількість респондентів із заповненими відповідями: 0\n",
            "3. Середнє значення досвіду: 10.790208522212149, Медіана досвіду: 8.0\n",
            "4. Кількість респондентів, які працюють віддалено: 0\n",
            "5. Відсоток респондентів, які програмують на Python: 49.83%\n",
            "6. Кількість респондентів, які навчалися програмувати за допомогою онлайн курсів: 0\n",
            "7. Середня та медіанна сума компенсації для респондентів, які програмують на Python за країнами:\n",
            "                                              mean   median\n",
            "Country                                                    \n",
            "Afghanistan                              33.000000     33.0\n",
            "Albania                                        NaN      NaN\n",
            "Algeria                                6586.000000   6586.0\n",
            "Argentina                             34688.538462  24742.0\n",
            "Armenia                               42958.500000  42958.5\n",
            "...                                            ...      ...\n",
            "Venezuela, Bolivarian Republic of...  17520.000000   9600.0\n",
            "Viet Nam                              35954.846154  25000.0\n",
            "Yemen                                  2796.000000   2796.0\n",
            "Zambia                                25228.000000  25228.0\n",
            "Zimbabwe                               6000.000000   6000.0\n",
            "\n",
            "[127 rows x 2 columns]\n",
            "8. Рівні освіти 5 респондентів з найбільшою компенсацією: 770        Master’s degree (M.A., M.S., M.Eng., MBA, etc.)\n",
            "10518    Some college/university study without earning ...\n",
            "5904        Professional degree (JD, MD, Ph.D, Ed.D, etc.)\n",
            "7994          Bachelor’s degree (B.A., B.S., B.Eng., etc.)\n",
            "7486     Some college/university study without earning ...\n",
            "Name: EdLevel, dtype: object\n"
          ]
        }
      ]
    }
  ]
}

{
  "nbformat": 4,
  "nbformat_minor": 0,
  "metadata": {
    "colab": {
      "provenance": []
    },
    "kernelspec": {
      "name": "python3",
      "display_name": "Python 3"
    },
    "language_info": {
      "name": "python"
    }
  },
  "cells": [
    {
      "cell_type": "code",
      "execution_count": 15,
      "metadata": {
        "id": "palhZJu9bQhK"
      },
      "outputs": [],
      "source": [
        "from google.colab import files\n",
        "import pandas as pd"
      ]
    },
    {
      "cell_type": "code",
      "source": [
        "\n",
        "# Завантажити файли applications.csv та industries.csv\n",
        "uploaded = files.upload()"
      ],
      "metadata": {
        "colab": {
          "base_uri": "https://localhost:8080/",
          "height": 107
        },
        "id": "bhzBKTwVbemG",
        "outputId": "46d6a1a0-bd4f-429b-ce8c-316b45aca657"
      },
      "execution_count": 16,
      "outputs": [
        {
          "output_type": "display_data",
          "data": {
            "text/plain": [
              "<IPython.core.display.HTML object>"
            ],
            "text/html": [
              "\n",
              "     <input type=\"file\" id=\"files-0361d0bb-6845-4fd6-b2d8-1644c427814e\" name=\"files[]\" multiple disabled\n",
              "        style=\"border:none\" />\n",
              "     <output id=\"result-0361d0bb-6845-4fd6-b2d8-1644c427814e\">\n",
              "      Upload widget is only available when the cell has been executed in the\n",
              "      current browser session. Please rerun this cell to enable.\n",
              "      </output>\n",
              "      <script>// Copyright 2017 Google LLC\n",
              "//\n",
              "// Licensed under the Apache License, Version 2.0 (the \"License\");\n",
              "// you may not use this file except in compliance with the License.\n",
              "// You may obtain a copy of the License at\n",
              "//\n",
              "//      http://www.apache.org/licenses/LICENSE-2.0\n",
              "//\n",
              "// Unless required by applicable law or agreed to in writing, software\n",
              "// distributed under the License is distributed on an \"AS IS\" BASIS,\n",
              "// WITHOUT WARRANTIES OR CONDITIONS OF ANY KIND, either express or implied.\n",
              "// See the License for the specific language governing permissions and\n",
              "// limitations under the License.\n",
              "\n",
              "/**\n",
              " * @fileoverview Helpers for google.colab Python module.\n",
              " */\n",
              "(function(scope) {\n",
              "function span(text, styleAttributes = {}) {\n",
              "  const element = document.createElement('span');\n",
              "  element.textContent = text;\n",
              "  for (const key of Object.keys(styleAttributes)) {\n",
              "    element.style[key] = styleAttributes[key];\n",
              "  }\n",
              "  return element;\n",
              "}\n",
              "\n",
              "// Max number of bytes which will be uploaded at a time.\n",
              "const MAX_PAYLOAD_SIZE = 100 * 1024;\n",
              "\n",
              "function _uploadFiles(inputId, outputId) {\n",
              "  const steps = uploadFilesStep(inputId, outputId);\n",
              "  const outputElement = document.getElementById(outputId);\n",
              "  // Cache steps on the outputElement to make it available for the next call\n",
              "  // to uploadFilesContinue from Python.\n",
              "  outputElement.steps = steps;\n",
              "\n",
              "  return _uploadFilesContinue(outputId);\n",
              "}\n",
              "\n",
              "// This is roughly an async generator (not supported in the browser yet),\n",
              "// where there are multiple asynchronous steps and the Python side is going\n",
              "// to poll for completion of each step.\n",
              "// This uses a Promise to block the python side on completion of each step,\n",
              "// then passes the result of the previous step as the input to the next step.\n",
              "function _uploadFilesContinue(outputId) {\n",
              "  const outputElement = document.getElementById(outputId);\n",
              "  const steps = outputElement.steps;\n",
              "\n",
              "  const next = steps.next(outputElement.lastPromiseValue);\n",
              "  return Promise.resolve(next.value.promise).then((value) => {\n",
              "    // Cache the last promise value to make it available to the next\n",
              "    // step of the generator.\n",
              "    outputElement.lastPromiseValue = value;\n",
              "    return next.value.response;\n",
              "  });\n",
              "}\n",
              "\n",
              "/**\n",
              " * Generator function which is called between each async step of the upload\n",
              " * process.\n",
              " * @param {string} inputId Element ID of the input file picker element.\n",
              " * @param {string} outputId Element ID of the output display.\n",
              " * @return {!Iterable<!Object>} Iterable of next steps.\n",
              " */\n",
              "function* uploadFilesStep(inputId, outputId) {\n",
              "  const inputElement = document.getElementById(inputId);\n",
              "  inputElement.disabled = false;\n",
              "\n",
              "  const outputElement = document.getElementById(outputId);\n",
              "  outputElement.innerHTML = '';\n",
              "\n",
              "  const pickedPromise = new Promise((resolve) => {\n",
              "    inputElement.addEventListener('change', (e) => {\n",
              "      resolve(e.target.files);\n",
              "    });\n",
              "  });\n",
              "\n",
              "  const cancel = document.createElement('button');\n",
              "  inputElement.parentElement.appendChild(cancel);\n",
              "  cancel.textContent = 'Cancel upload';\n",
              "  const cancelPromise = new Promise((resolve) => {\n",
              "    cancel.onclick = () => {\n",
              "      resolve(null);\n",
              "    };\n",
              "  });\n",
              "\n",
              "  // Wait for the user to pick the files.\n",
              "  const files = yield {\n",
              "    promise: Promise.race([pickedPromise, cancelPromise]),\n",
              "    response: {\n",
              "      action: 'starting',\n",
              "    }\n",
              "  };\n",
              "\n",
              "  cancel.remove();\n",
              "\n",
              "  // Disable the input element since further picks are not allowed.\n",
              "  inputElement.disabled = true;\n",
              "\n",
              "  if (!files) {\n",
              "    return {\n",
              "      response: {\n",
              "        action: 'complete',\n",
              "      }\n",
              "    };\n",
              "  }\n",
              "\n",
              "  for (const file of files) {\n",
              "    const li = document.createElement('li');\n",
              "    li.append(span(file.name, {fontWeight: 'bold'}));\n",
              "    li.append(span(\n",
              "        `(${file.type || 'n/a'}) - ${file.size} bytes, ` +\n",
              "        `last modified: ${\n",
              "            file.lastModifiedDate ? file.lastModifiedDate.toLocaleDateString() :\n",
              "                                    'n/a'} - `));\n",
              "    const percent = span('0% done');\n",
              "    li.appendChild(percent);\n",
              "\n",
              "    outputElement.appendChild(li);\n",
              "\n",
              "    const fileDataPromise = new Promise((resolve) => {\n",
              "      const reader = new FileReader();\n",
              "      reader.onload = (e) => {\n",
              "        resolve(e.target.result);\n",
              "      };\n",
              "      reader.readAsArrayBuffer(file);\n",
              "    });\n",
              "    // Wait for the data to be ready.\n",
              "    let fileData = yield {\n",
              "      promise: fileDataPromise,\n",
              "      response: {\n",
              "        action: 'continue',\n",
              "      }\n",
              "    };\n",
              "\n",
              "    // Use a chunked sending to avoid message size limits. See b/62115660.\n",
              "    let position = 0;\n",
              "    do {\n",
              "      const length = Math.min(fileData.byteLength - position, MAX_PAYLOAD_SIZE);\n",
              "      const chunk = new Uint8Array(fileData, position, length);\n",
              "      position += length;\n",
              "\n",
              "      const base64 = btoa(String.fromCharCode.apply(null, chunk));\n",
              "      yield {\n",
              "        response: {\n",
              "          action: 'append',\n",
              "          file: file.name,\n",
              "          data: base64,\n",
              "        },\n",
              "      };\n",
              "\n",
              "      let percentDone = fileData.byteLength === 0 ?\n",
              "          100 :\n",
              "          Math.round((position / fileData.byteLength) * 100);\n",
              "      percent.textContent = `${percentDone}% done`;\n",
              "\n",
              "    } while (position < fileData.byteLength);\n",
              "  }\n",
              "\n",
              "  // All done.\n",
              "  yield {\n",
              "    response: {\n",
              "      action: 'complete',\n",
              "    }\n",
              "  };\n",
              "}\n",
              "\n",
              "scope.google = scope.google || {};\n",
              "scope.google.colab = scope.google.colab || {};\n",
              "scope.google.colab._files = {\n",
              "  _uploadFiles,\n",
              "  _uploadFilesContinue,\n",
              "};\n",
              "})(self);\n",
              "</script> "
            ]
          },
          "metadata": {}
        },
        {
          "output_type": "stream",
          "name": "stdout",
          "text": [
            "Saving industries.csv to industries.csv\n",
            "Saving applications.csv to applications.csv\n"
          ]
        }
      ]
    },
    {
      "cell_type": "code",
      "source": [
        "# Отримати імена завантажених файлів\n",
        "file_names = list(uploaded.keys())"
      ],
      "metadata": {
        "id": "q9JPETBKdMCT"
      },
      "execution_count": 17,
      "outputs": []
    },
    {
      "cell_type": "code",
      "source": [
        "# Зчитати файли в Pandas DataFrame\n",
        "applications_df = pd.read_csv(file_names[0])\n",
        "industries_df = pd.read_csv(file_names[1])"
      ],
      "metadata": {
        "id": "wQihX-O5dMJp"
      },
      "execution_count": 18,
      "outputs": []
    },
    {
      "cell_type": "code",
      "source": [
        "# Завантаження даних з файлу industries.csv\n",
        "industries_df = pd.read_csv('industries.csv')"
      ],
      "metadata": {
        "id": "amwONkD-dMQq"
      },
      "execution_count": 19,
      "outputs": []
    },
    {
      "cell_type": "code",
      "source": [
        "applications_df = pd.read_csv('applications.csv')\n"
      ],
      "metadata": {
        "id": "geLUfaI5e2PK"
      },
      "execution_count": 21,
      "outputs": []
    },
    {
      "cell_type": "code",
      "source": [
        "applications_df = applications_df.drop_duplicates(subset='applicant_id')\n"
      ],
      "metadata": {
        "id": "pQV0eTRYe5uo"
      },
      "execution_count": 22,
      "outputs": []
    },
    {
      "cell_type": "code",
      "source": [
        "applications_df['External Rating'].fillna(0, inplace=True)\n"
      ],
      "metadata": {
        "id": "2_QeB3hCe7C8"
      },
      "execution_count": 23,
      "outputs": []
    },
    {
      "cell_type": "code",
      "source": [
        "applications_df['Education level'].fillna('Середня', inplace=True)\n"
      ],
      "metadata": {
        "id": "H5O69C1Ve7RH"
      },
      "execution_count": 24,
      "outputs": []
    },
    {
      "cell_type": "code",
      "source": [
        "print(applications_df.head())\n"
      ],
      "metadata": {
        "colab": {
          "base_uri": "https://localhost:8080/"
        },
        "id": "fagT8vQFfDFg",
        "outputId": "4ce4237f-fe71-4aa7-9290-5783a6e29bfd"
      },
      "execution_count": 25,
      "outputs": [
        {
          "output_type": "stream",
          "name": "stdout",
          "text": [
            "            Applied at   Amount  Age   Gender                      Industry  \\\n",
            "0  11.30.2022 10:26:37  12000.0   29  Чоловік                    Blockchain   \n",
            "1  11.30.2022 10:26:39      NaN   36  Чоловік  Public services / Government   \n",
            "2  11.30.2022 10:26:58   7500.0   34  Чоловік          Adtech / Advertising   \n",
            "3  11.30.2022 10:27:31   1500.0   23    Жінка                       Telecom   \n",
            "4  11.30.2022 10:27:34   8400.0   33    Жінка                    Automotive   \n",
            "\n",
            "  Marital status  External Rating                       Education level  \\\n",
            "0          Other              8.0  Вища (бакалавр, спеціаліст, магістр)   \n",
            "1         Single              3.0  Вища (бакалавр, спеціаліст, магістр)   \n",
            "2         Single              4.0  Вища (бакалавр, спеціаліст, магістр)   \n",
            "3         Single              0.0  Вища (бакалавр, спеціаліст, магістр)   \n",
            "4         Single              6.0  Вища (бакалавр, спеціаліст, магістр)   \n",
            "\n",
            "                      Location                      applicant_id  \n",
            "0  Івано-Франківськ чи область  99e7b0dc6cc05dd334d8f38dc26ce9b3  \n",
            "1                          NaN  63dfcf8e6904186650d6814279fbe42f  \n",
            "2              Київ чи область  10dbafaeb46c09e96b6987c03bbb3498  \n",
            "3             Львів чи область  5847ac62cc9eac5e323c2517dcc91ad1  \n",
            "4           Житомир чи область  5d21f3795b50de8e8f8f8d5f48b754f3  \n"
          ]
        }
      ]
    },
    {
      "cell_type": "code",
      "source": [
        "applications_df = pd.read_csv('applications.csv')\n"
      ],
      "metadata": {
        "id": "IISM55NTfHem"
      },
      "execution_count": 26,
      "outputs": []
    },
    {
      "cell_type": "code",
      "source": [
        "# Прибирання дублікатів за applicant_id\n",
        "applications_df = applications_df.drop_duplicates(subset='applicant_id')"
      ],
      "metadata": {
        "id": "R-8KbH-dfHsZ"
      },
      "execution_count": 27,
      "outputs": []
    },
    {
      "cell_type": "code",
      "source": [
        "# Заповнення відсутніх значень в 'External Rating' нулями\n",
        "applications_df['External Rating'].fillna(0, inplace=True)"
      ],
      "metadata": {
        "id": "ibF5Qflnffad"
      },
      "execution_count": 31,
      "outputs": []
    },
    {
      "cell_type": "code",
      "source": [
        "# Заповнення відсутніх значень в 'Education level' текстом “Середня”\n",
        "applications_df['Education level'].fillna('Середня', inplace=True)"
      ],
      "metadata": {
        "id": "tAdn5u7Zf5VQ"
      },
      "execution_count": 32,
      "outputs": []
    },
    {
      "cell_type": "code",
      "source": [
        "# Розрахунок рейтингу за заданими умовами\n",
        "applications_df['Rating'] = (applications_df['Amount'].notnull()) & (applications_df['External Rating'] != 0)\n",
        "applications_df['Rating'] = applications_df.apply(lambda row: row['Amount'] + row['External Rating']\n",
        "                                                   if row['Rating'] else 0, axis=1)\n"
      ],
      "metadata": {
        "id": "w106SQlsf5hy"
      },
      "execution_count": 33,
      "outputs": []
    },
    {
      "cell_type": "code",
      "source": [
        "# Виведення інформації про стовпці для applications_df\n",
        "print(\"applications_df:\")\n",
        "print(applications_df.info())"
      ],
      "metadata": {
        "colab": {
          "base_uri": "https://localhost:8080/"
        },
        "id": "n10OLNTPgXG_",
        "outputId": "71ffa95b-c873-45d0-c852-ce83af334200"
      },
      "execution_count": 36,
      "outputs": [
        {
          "output_type": "stream",
          "name": "stdout",
          "text": [
            "applications_df:\n",
            "<class 'pandas.core.frame.DataFrame'>\n",
            "Int64Index: 13278 entries, 0 to 13314\n",
            "Data columns (total 11 columns):\n",
            " #   Column           Non-Null Count  Dtype  \n",
            "---  ------           --------------  -----  \n",
            " 0   Applied at       13278 non-null  object \n",
            " 1   Amount           13245 non-null  float64\n",
            " 2   Age              13278 non-null  int64  \n",
            " 3   Gender           13278 non-null  object \n",
            " 4   Industry         13278 non-null  object \n",
            " 5   Marital status   13278 non-null  object \n",
            " 6   External Rating  13278 non-null  float64\n",
            " 7   Education level  13278 non-null  object \n",
            " 8   Location         11506 non-null  object \n",
            " 9   applicant_id     13278 non-null  object \n",
            " 10  Rating           13278 non-null  float64\n",
            "dtypes: float64(3), int64(1), object(7)\n",
            "memory usage: 1.2+ MB\n",
            "None\n"
          ]
        }
      ]
    },
    {
      "cell_type": "code",
      "source": [
        "# Виведення інформації про стовпці для industries_df\n",
        "print(\"\\nindustries_df:\")\n",
        "print(industries_df.info())"
      ],
      "metadata": {
        "colab": {
          "base_uri": "https://localhost:8080/"
        },
        "id": "Ck1vJ0XPgeAw",
        "outputId": "79275a22-c691-4050-f1fd-73a053543413"
      },
      "execution_count": 37,
      "outputs": [
        {
          "output_type": "stream",
          "name": "stdout",
          "text": [
            "\n",
            "industries_df:\n",
            "<class 'pandas.core.frame.DataFrame'>\n",
            "RangeIndex: 37 entries, 0 to 36\n",
            "Data columns (total 2 columns):\n",
            " #   Column    Non-Null Count  Dtype \n",
            "---  ------    --------------  ----- \n",
            " 0   Industry  37 non-null     object\n",
            " 1   Score     37 non-null     int64 \n",
            "dtypes: int64(1), object(1)\n",
            "memory usage: 720.0+ bytes\n",
            "None\n"
          ]
        }
      ]
    },
    {
      "cell_type": "code",
      "source": [
        "# Замість 'applicant_id' використовуйте 'Industry' для об'єднання\n",
        "merged_df = pd.merge(applications_df, industries_df, left_on='Industry', right_on='Industry', how='left')\n"
      ],
      "metadata": {
        "id": "h7Mxz2qUhbIS"
      },
      "execution_count": 39,
      "outputs": []
    },
    {
      "cell_type": "code",
      "source": [
        "# Виведення перших рядків для перевірки\n",
        "print(\"\\nmerged_df:\")\n",
        "print(merged_df.head())"
      ],
      "metadata": {
        "colab": {
          "base_uri": "https://localhost:8080/"
        },
        "id": "bqLTxUg8hbYJ",
        "outputId": "5cc11790-5fc3-40cc-daae-9545d23c324e"
      },
      "execution_count": 40,
      "outputs": [
        {
          "output_type": "stream",
          "name": "stdout",
          "text": [
            "\n",
            "merged_df:\n",
            "            Applied at   Amount  Age   Gender                      Industry  \\\n",
            "0  11.30.2022 10:26:37  12000.0   29  Чоловік                    Blockchain   \n",
            "1  11.30.2022 10:26:39      NaN   36  Чоловік  Public services / Government   \n",
            "2  11.30.2022 10:26:58   7500.0   34  Чоловік          Adtech / Advertising   \n",
            "3  11.30.2022 10:27:31   1500.0   23    Жінка                       Telecom   \n",
            "4  11.30.2022 10:27:34   8400.0   33    Жінка                    Automotive   \n",
            "\n",
            "  Marital status  External Rating                       Education level  \\\n",
            "0          Other              8.0  Вища (бакалавр, спеціаліст, магістр)   \n",
            "1         Single              3.0  Вища (бакалавр, спеціаліст, магістр)   \n",
            "2         Single              4.0  Вища (бакалавр, спеціаліст, магістр)   \n",
            "3         Single              0.0  Вища (бакалавр, спеціаліст, магістр)   \n",
            "4         Single              6.0  Вища (бакалавр, спеціаліст, магістр)   \n",
            "\n",
            "                      Location                      applicant_id   Rating  \\\n",
            "0  Івано-Франківськ чи область  99e7b0dc6cc05dd334d8f38dc26ce9b3  12008.0   \n",
            "1                          NaN  63dfcf8e6904186650d6814279fbe42f      0.0   \n",
            "2              Київ чи область  10dbafaeb46c09e96b6987c03bbb3498   7504.0   \n",
            "3             Львів чи область  5847ac62cc9eac5e323c2517dcc91ad1      0.0   \n",
            "4           Житомир чи область  5d21f3795b50de8e8f8f8d5f48b754f3   8406.0   \n",
            "\n",
            "   Score  \n",
            "0      0  \n",
            "1     20  \n",
            "2     10  \n",
            "3     15  \n",
            "4     15  \n"
          ]
        }
      ]
    },
    {
      "cell_type": "code",
      "source": [
        "# Розрахунок рейтингу за умовами\n",
        "rating_conditions = [\n",
        "    (applications_df['Age'].between(35, 55), 20),\n",
        "    ((pd.to_datetime(applications_df['Applied at']).dt.weekday < 5), 20),\n",
        "    (applications_df['Marital status'] == 'Married', 20),\n",
        "    ((applications_df['Location'].str.contains('Київ|Киев|Kyiv|Kyiv', case=False, na=False)), 10),\n",
        "    (True, industries_df['Score']),  # Значення 'Score' з таблиці industries.csv\n",
        "    (applications_df['External Rating'] >= 8, 20),\n",
        "    (applications_df['External Rating'] <= 2, -20)\n",
        "]"
      ],
      "metadata": {
        "id": "gOSEVoxhhbmQ"
      },
      "execution_count": 42,
      "outputs": []
    },
    {
      "cell_type": "code",
      "source": [
        "import numpy as np\n"
      ],
      "metadata": {
        "id": "S4ZS3bRlisy1"
      },
      "execution_count": 44,
      "outputs": []
    },
    {
      "cell_type": "code",
      "source": [
        "# Розрахунок рейтингу за умовами\n",
        "conditions = [\n",
        "    (applications_df['Age'].between(35, 55), 20),\n",
        "    ((pd.to_datetime(applications_df['Applied at']).dt.weekday < 5), 20),\n",
        "    (applications_df['Marital status'] == 'Married', 20),\n",
        "    ((applications_df['Location'].str.contains('Київ|Киев|Kyiv|Kyiv', case=False, na=False)), 10),\n",
        "    (True, industries_df.set_index('Industry')['Score']),  # Значення 'Score' з таблиці industries.csv\n",
        "    (applications_df['External Rating'] >= 8, 20),\n",
        "    (applications_df['External Rating'] <= 2, -20)\n",
        "]"
      ],
      "metadata": {
        "id": "vdejOEVIid5L"
      },
      "execution_count": 57,
      "outputs": []
    },
    {
      "cell_type": "code",
      "source": [
        "# Розрахунок рейтингу за умовами\n",
        "applications_df['Rating'] = 0\n",
        "for cond, points in conditions:\n",
        "    if isinstance(points, pd.Series):\n",
        "        applications_df['Rating'] += applications_df['Industry'].map(points).fillna(0)\n",
        "    else:\n",
        "        applications_df['Rating'] += np.where(cond, points, 0)"
      ],
      "metadata": {
        "id": "9d-uq2EgjbFQ"
      },
      "execution_count": 58,
      "outputs": []
    },
    {
      "cell_type": "code",
      "source": [
        "# Обмеження рейтингу в межах від 0 до 100\n",
        "applications_df['Rating'] = applications_df['Rating'].clip(0, 100)"
      ],
      "metadata": {
        "id": "uR_rstchki3D"
      },
      "execution_count": 59,
      "outputs": []
    },
    {
      "cell_type": "code",
      "source": [
        "# Виведення перших рядків для перевірки\n",
        "print(applications_df.head())"
      ],
      "metadata": {
        "colab": {
          "base_uri": "https://localhost:8080/"
        },
        "id": "jwPePEkoku2J",
        "outputId": "385aab4d-cdde-4359-89f5-520447f8e330"
      },
      "execution_count": 60,
      "outputs": [
        {
          "output_type": "stream",
          "name": "stdout",
          "text": [
            "            Applied at   Amount  Age   Gender                      Industry  \\\n",
            "0  11.30.2022 10:26:37  12000.0   29  Чоловік                    Blockchain   \n",
            "1  11.30.2022 10:26:39      NaN   36  Чоловік  Public services / Government   \n",
            "2  11.30.2022 10:26:58   7500.0   34  Чоловік          Adtech / Advertising   \n",
            "3  11.30.2022 10:27:31   1500.0   23    Жінка                       Telecom   \n",
            "4  11.30.2022 10:27:34   8400.0   33    Жінка                    Automotive   \n",
            "\n",
            "  Marital status  External Rating                       Education level  \\\n",
            "0          Other              8.0  Вища (бакалавр, спеціаліст, магістр)   \n",
            "1         Single              3.0  Вища (бакалавр, спеціаліст, магістр)   \n",
            "2         Single              4.0  Вища (бакалавр, спеціаліст, магістр)   \n",
            "3         Single              0.0  Вища (бакалавр, спеціаліст, магістр)   \n",
            "4         Single              6.0  Вища (бакалавр, спеціаліст, магістр)   \n",
            "\n",
            "                      Location                      applicant_id  Rating  \n",
            "0  Івано-Франківськ чи область  99e7b0dc6cc05dd334d8f38dc26ce9b3      40  \n",
            "1                          NaN  63dfcf8e6904186650d6814279fbe42f      60  \n",
            "2              Київ чи область  10dbafaeb46c09e96b6987c03bbb3498      40  \n",
            "3             Львів чи область  5847ac62cc9eac5e323c2517dcc91ad1      15  \n",
            "4           Житомир чи область  5d21f3795b50de8e8f8f8d5f48b754f3      35  \n"
          ]
        }
      ]
    },
    {
      "cell_type": "code",
      "source": [
        "import matplotlib.pyplot as plt\n"
      ],
      "metadata": {
        "id": "wYbOaaCVk90C"
      },
      "execution_count": 61,
      "outputs": []
    },
    {
      "cell_type": "code",
      "source": [
        "# Відфільтруємо заявки з рейтингом більше нуля\n",
        "accepted_applications = applications_df[applications_df['Rating'] > 0].copy()\n"
      ],
      "metadata": {
        "id": "zmvumkzYk-Ca"
      },
      "execution_count": 64,
      "outputs": []
    },
    {
      "cell_type": "code",
      "source": [
        "# Конвертуємо 'Applied at' в тип datetime та визначимо тиждень подачі заявки\n",
        "accepted_applications['Applied at'] = pd.to_datetime(accepted_applications['Applied at'])\n",
        "accepted_applications['Week'] = accepted_applications['Applied at'].dt.isocalendar().week"
      ],
      "metadata": {
        "id": "jF8coyuBk-QK"
      },
      "execution_count": 65,
      "outputs": []
    },
    {
      "cell_type": "code",
      "source": [
        "# Згрупуємо за тижнем та розрахуємо середній рейтинг\n",
        "weekly_avg_rating = accepted_applications.groupby('Week')['Rating'].mean()"
      ],
      "metadata": {
        "id": "uhfXMdTElnH6"
      },
      "execution_count": 66,
      "outputs": []
    },
    {
      "cell_type": "code",
      "source": [
        "# Виведемо дані на графік\n",
        "plt.figure(figsize=(10, 6))\n",
        "plt.plot(weekly_avg_rating.index, weekly_avg_rating.values, marker='o', linestyle='-', color='b')\n",
        "plt.title('Середній рейтинг прийнятих заявок за тижнем')\n",
        "plt.xlabel('Тиждень')\n",
        "plt.ylabel('Середній рейтинг')\n",
        "plt.grid(True)\n",
        "plt.show()"
      ],
      "metadata": {
        "colab": {
          "base_uri": "https://localhost:8080/",
          "height": 564
        },
        "id": "Q9NT6pvFlnWU",
        "outputId": "79840bec-a6f6-4b28-9491-7eb96dcd4f0a"
      },
      "execution_count": 67,
      "outputs": [
        {
          "output_type": "display_data",
          "data": {
            "text/plain": [
              "<Figure size 1000x600 with 1 Axes>"
            ],
            "image/png": "[encoded data removed]"
          },
          "metadata": {}
        }
      ]
    }
  ]
}
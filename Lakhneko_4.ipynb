{
  "nbformat": 4,
  "nbformat_minor": 0,
  "metadata": {
    "colab": {
      "provenance": [],
      "authorship_tag": "ABX9TyPFQCwgi9t8ijt1Hek818M7",
      "include_colab_link": true
    },
    "kernelspec": {
      "name": "python3",
      "display_name": "Python 3"
    },
    "language_info": {
      "name": "python"
    }
  },
  "cells": [
    {
      "cell_type": "markdown",
      "metadata": {
        "id": "view-in-github",
        "colab_type": "text"
      },
      "source": [
        "<a href=\"https://colab.research.google.com/github/ShvetsAlla/repo1/blob/main/Untitled3.ipynb\" target=\"_parent\"><img src=\"https://colab.research.google.com/assets/colab-badge.svg\" alt=\"Open In Colab\"/></a>"
      ]
    },
    {
      "cell_type": "code",
      "execution_count": 1,
      "metadata": {
        "id": "4qJE7V1Sj66S"
      },
      "outputs": [],
      "source": [
        "import numpy as np\n",
        "import json\n",
        "from math import pi  # спосіб імпортувати конкретну функцію з модуля"
      ]
    },
    {
      "cell_type": "code",
      "source": [
        "client_info = {\n",
        "    \"name\": \"Andriy\",\n",
        "    \"age\": 30,\n",
        "    \"address\": {\n",
        "                \"street\": \"Hlova Street, 10\",\n",
        "                \"city\": \"Kyiv\",\n",
        "                \"country\": \"Ukraine\"},\n",
        "    \"email\": \"andriy@example.com\",\n",
        "    \"phone\": \"+380123456789\",\n",
        "    \"orders\": [\n",
        "                {\"id\": 1, \"item_id\": 55},\n",
        "                {\"id\": 2, \"item_id\": 57},\n",
        "                {\"id\": 3, \"item_id\": 587},\n",
        "    ],\n",
        "}\n",
        "client_info\n",
        "# часто будете працювати якщо дані з API, але частіше будуть дата інженери так отримувати дані"
      ],
      "metadata": {
        "colab": {
          "base_uri": "https://localhost:8080/"
        },
        "id": "8bv0Lf_lkYo8",
        "outputId": "9ec54d4a-d9e1-4c1d-dffa-7d117e377f79"
      },
      "execution_count": 2,
      "outputs": [
        {
          "output_type": "execute_result",
          "data": {
            "text/plain": [
              "{'name': 'Andriy',\n",
              " 'age': 30,\n",
              " 'address': {'street': 'Hlova Street, 10',\n",
              "  'city': 'Kyiv',\n",
              "  'country': 'Ukraine'},\n",
              " 'email': 'andriy@example.com',\n",
              " 'phone': '+380123456789',\n",
              " 'orders': [{'id': 1, 'item_id': 55},\n",
              "  {'id': 2, 'item_id': 57},\n",
              "  {'id': 3, 'item_id': 587}]}"
            ]
          },
          "metadata": {},
          "execution_count": 2
        }
      ]
    },
    {
      "cell_type": "code",
      "source": [
        "# кожен ключ з нового рядка і відступи на рівні - для цього базова бібліотека json\n",
        "# в ній є функція dumbs - словник в текст з форматуванням переводить\n",
        "\n",
        "import json\n",
        "\n",
        "dict_to_print =json.dumps(client_info)\n",
        "print(dict_to_print)"
      ],
      "metadata": {
        "colab": {
          "base_uri": "https://localhost:8080/"
        },
        "id": "Wvdf1LsOkdpO",
        "outputId": "e8e88def-2c52-4f4e-aac4-f4bc1375b188"
      },
      "execution_count": 3,
      "outputs": [
        {
          "output_type": "stream",
          "name": "stdout",
          "text": [
            "{\"name\": \"Andriy\", \"age\": 30, \"address\": {\"street\": \"Hlova Street, 10\", \"city\": \"Kyiv\", \"country\": \"Ukraine\"}, \"email\": \"andriy@example.com\", \"phone\": \"+380123456789\", \"orders\": [{\"id\": 1, \"item_id\": 55}, {\"id\": 2, \"item_id\": 57}, {\"id\": 3, \"item_id\": 587}]}\n"
          ]
        }
      ]
    },
    {
      "cell_type": "code",
      "source": [
        "# Використання json.dumps з indent і sort_keys\n",
        "dict_to_print = json.dumps(client_info, indent=4, sort_keys=True)\n",
        "print(dict_to_print)"
      ],
      "metadata": {
        "colab": {
          "base_uri": "https://localhost:8080/"
        },
        "id": "e76QZfu6klhH",
        "outputId": "a24d5de0-ec9c-4f5e-d578-bfbc6c01eb8c"
      },
      "execution_count": 4,
      "outputs": [
        {
          "output_type": "stream",
          "name": "stdout",
          "text": [
            "{\n",
            "    \"address\": {\n",
            "        \"city\": \"Kyiv\",\n",
            "        \"country\": \"Ukraine\",\n",
            "        \"street\": \"Hlova Street, 10\"\n",
            "    },\n",
            "    \"age\": 30,\n",
            "    \"email\": \"andriy@example.com\",\n",
            "    \"name\": \"Andriy\",\n",
            "    \"orders\": [\n",
            "        {\n",
            "            \"id\": 1,\n",
            "            \"item_id\": 55\n",
            "        },\n",
            "        {\n",
            "            \"id\": 2,\n",
            "            \"item_id\": 57\n",
            "        },\n",
            "        {\n",
            "            \"id\": 3,\n",
            "            \"item_id\": 587\n",
            "        }\n",
            "    ],\n",
            "    \"phone\": \"+380123456789\"\n",
            "}\n"
          ]
        }
      ]
    },
    {
      "cell_type": "code",
      "source": [
        "from math import pi # спосіб імпортувати конкретну функцію з модуля\n",
        "\n",
        "print(pi)"
      ],
      "metadata": {
        "colab": {
          "base_uri": "https://localhost:8080/"
        },
        "id": "PqUklLfdkn7i",
        "outputId": "3df5bfec-5722-4fbd-bcf3-7f807efbb1b7"
      },
      "execution_count": 5,
      "outputs": [
        {
          "output_type": "stream",
          "name": "stdout",
          "text": [
            "3.141592653589793\n"
          ]
        }
      ]
    },
    {
      "cell_type": "code",
      "source": [
        "my_list = [1, 2, 3, 4, 5]\n",
        "print(my_list)\n",
        "\n",
        "#my_list + 5 # не можна додати число до списку"
      ],
      "metadata": {
        "colab": {
          "base_uri": "https://localhost:8080/"
        },
        "id": "HC5x9v72krpW",
        "outputId": "3c197d4f-db18-4a30-9692-cf5f3dd9b878"
      },
      "execution_count": 6,
      "outputs": [
        {
          "output_type": "stream",
          "name": "stdout",
          "text": [
            "[1, 2, 3, 4, 5]\n"
          ]
        }
      ]
    },
    {
      "cell_type": "code",
      "source": [
        "# але можна додати число до кожного елементу списку за допомогою\n",
        "new_list = []\n",
        "for x in my_list:\n",
        "    new_list.append(x + 5)\n",
        "print(new_list)"
      ],
      "metadata": {
        "colab": {
          "base_uri": "https://localhost:8080/"
        },
        "id": "ZsUUi_ipkr3X",
        "outputId": "02a5631a-99c9-4c84-d7a0-20ee62645346"
      },
      "execution_count": 7,
      "outputs": [
        {
          "output_type": "stream",
          "name": "stdout",
          "text": [
            "[6, 7, 8, 9, 10]\n"
          ]
        }
      ]
    },
    {
      "cell_type": "code",
      "source": [],
      "metadata": {
        "id": "u3aM_3lRkr8j"
      },
      "execution_count": null,
      "outputs": []
    },
    {
      "cell_type": "code",
      "source": [],
      "metadata": {
        "id": "3oeTa3sDksBP"
      },
      "execution_count": null,
      "outputs": []
    },
    {
      "cell_type": "code",
      "source": [],
      "metadata": {
        "id": "90XcQByxksFu"
      },
      "execution_count": null,
      "outputs": []
    },
    {
      "cell_type": "code",
      "source": [],
      "metadata": {
        "id": "xme-ncpMksJp"
      },
      "execution_count": null,
      "outputs": []
    },
    {
      "cell_type": "code",
      "source": [],
      "metadata": {
        "id": "a4L0BaBpksM-"
      },
      "execution_count": null,
      "outputs": []
    }
  ]
}

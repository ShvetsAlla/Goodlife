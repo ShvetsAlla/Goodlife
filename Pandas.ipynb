{
  "nbformat": 4,
  "nbformat_minor": 0,
  "metadata": {
    "colab": {
      "provenance": [],
      "authorship_tag": "ABX9TyMzZTtylyxmB+4dWgmcjSaJ",
      "include_colab_link": true
    },
    "kernelspec": {
      "name": "python3",
      "display_name": "Python 3"
    },
    "language_info": {
      "name": "python"
    }
  },
  "cells": [
    {
      "cell_type": "markdown",
      "metadata": {
        "id": "view-in-github",
        "colab_type": "text"
      },
      "source": [
        "<a href=\"https://colab.research.google.com/github/ShvetsAlla/repo1/blob/main/Pandas.ipynb\" target=\"_parent\"><img src=\"https://colab.research.google.com/assets/colab-badge.svg\" alt=\"Open In Colab\"/></a>"
      ]
    },
    {
      "cell_type": "code",
      "execution_count": 1,
      "metadata": {
        "id": "tej_zbJLmZM1"
      },
      "outputs": [],
      "source": [
        "import pandas as pd\n"
      ]
    },
    {
      "cell_type": "code",
      "source": [
        "mountains_height = pd.Series([2061, 2035.8, 2028.5, 2022.5, 2016.4])  # У найпростішій формі об'єкт Series можна створити так само як одновимірний масив NumPy:\n",
        "print(mountains_height)"
      ],
      "metadata": {
        "colab": {
          "base_uri": "https://localhost:8080/"
        },
        "id": "V1kNkRo9mpF9",
        "outputId": "0bdb46e2-b623-43c5-ca9d-7e7b0fc0b84d"
      },
      "execution_count": 2,
      "outputs": [
        {
          "output_type": "stream",
          "name": "stdout",
          "text": [
            "0    2061.0\n",
            "1    2035.8\n",
            "2    2028.5\n",
            "3    2022.5\n",
            "4    2016.4\n",
            "dtype: float64\n"
          ]
        }
      ]
    },
    {
      "cell_type": "code",
      "source": [
        "mountains_height = pd.Series(\n",
        "    data=[2061, 2035.8, 2028.5, 2022.5, 2016.4], # data - дані, які будуть зберігатися в об'єкті Series\n",
        "    index=[\"Goverla\", \"Brebenskyl\", \"Pip_Ivan\", \"Petros\", \"Gutin_Tomnatik\"], # index - індекси, які будуть використовуватися для доступу до елементів об'єкту Series\n",
        "    name=\"Height, m\", # name - назва об'єкту Series\n",
        "    dtype=float, # dtype - тип даних, які будуть зберігатися в об'єкті Series\n",
        ")\n",
        "\n",
        "print(mountains_height)"
      ],
      "metadata": {
        "colab": {
          "base_uri": "https://localhost:8080/"
        },
        "id": "5YTgtXRrmpJn",
        "outputId": "e73d0f5b-a7d8-463b-f465-3abb42cd1ee6"
      },
      "execution_count": 3,
      "outputs": [
        {
          "output_type": "stream",
          "name": "stdout",
          "text": [
            "Goverla           2061.0\n",
            "Brebenskyl        2035.8\n",
            "Pip_Ivan          2028.5\n",
            "Petros            2022.5\n",
            "Gutin_Tomnatik    2016.4\n",
            "Name: Height, m, dtype: float64\n"
          ]
        }
      ]
    },
    {
      "cell_type": "code",
      "source": [
        "print(mountains_height[0])  # 2061.0\n"
      ],
      "metadata": {
        "colab": {
          "base_uri": "https://localhost:8080/"
        },
        "id": "mcTEYjrNmpNN",
        "outputId": "53158142-80b4-4bdd-83d1-728cbf64eb04"
      },
      "execution_count": 4,
      "outputs": [
        {
          "output_type": "stream",
          "name": "stdout",
          "text": [
            "2061.0\n"
          ]
        }
      ]
    },
    {
      "cell_type": "code",
      "source": [
        "print(mountains_height[\"Goverla\"])  # 2061.0\n"
      ],
      "metadata": {
        "colab": {
          "base_uri": "https://localhost:8080/"
        },
        "id": "wEwhEUi1mpQW",
        "outputId": "3ed08616-2f87-4597-f718-d0e972c1b620"
      },
      "execution_count": 5,
      "outputs": [
        {
          "output_type": "stream",
          "name": "stdout",
          "text": [
            "2061.0\n"
          ]
        }
      ]
    },
    {
      "cell_type": "code",
      "source": [
        "print(mountains_height[[\"Pip_Ivan\", \"Goverla\", \"Gutin_Tomnatik\"]])\n"
      ],
      "metadata": {
        "colab": {
          "base_uri": "https://localhost:8080/"
        },
        "id": "4-Xxb6QympTb",
        "outputId": "c08dd5db-5fc9-4e3e-9f90-60eada058382"
      },
      "execution_count": 6,
      "outputs": [
        {
          "output_type": "stream",
          "name": "stdout",
          "text": [
            "Pip_Ivan          2028.5\n",
            "Goverla           2061.0\n",
            "Gutin_Tomnatik    2016.4\n",
            "Name: Height, m, dtype: float64\n"
          ]
        }
      ]
    },
    {
      "cell_type": "code",
      "source": [
        "mountains_height"
      ],
      "metadata": {
        "colab": {
          "base_uri": "https://localhost:8080/"
        },
        "id": "F1zrlZUFmpWC",
        "outputId": "1ecfdf91-eb73-43ba-d370-ada1d69156cb"
      },
      "execution_count": 7,
      "outputs": [
        {
          "output_type": "execute_result",
          "data": {
            "text/plain": [
              "Goverla           2061.0\n",
              "Brebenskyl        2035.8\n",
              "Pip_Ivan          2028.5\n",
              "Petros            2022.5\n",
              "Gutin_Tomnatik    2016.4\n",
              "Name: Height, m, dtype: float64"
            ]
          },
          "metadata": {},
          "execution_count": 7
        }
      ]
    },
    {
      "cell_type": "code",
      "source": [
        "# Вирізання елементів у стилі Python працює.\n",
        "\n",
        "print(mountains_height[1:3]) # не включно 3!"
      ],
      "metadata": {
        "colab": {
          "base_uri": "https://localhost:8080/"
        },
        "id": "Jw9T3lJynBmd",
        "outputId": "da8f6d74-29ba-4df2-e6f4-0c77b9291a97"
      },
      "execution_count": 8,
      "outputs": [
        {
          "output_type": "stream",
          "name": "stdout",
          "text": [
            "Brebenskyl    2035.8\n",
            "Pip_Ivan      2028.5\n",
            "Name: Height, m, dtype: float64\n"
          ]
        }
      ]
    },
    {
      "cell_type": "code",
      "source": [
        "print(mountains_height[\"Brebenskyl\":\"Petros\"])\n"
      ],
      "metadata": {
        "colab": {
          "base_uri": "https://localhost:8080/"
        },
        "id": "eYuk24hKnBqR",
        "outputId": "c71b1df1-6c38-4d88-d168-829a1f5ed039"
      },
      "execution_count": 9,
      "outputs": [
        {
          "output_type": "stream",
          "name": "stdout",
          "text": [
            "Brebenskyl    2035.8\n",
            "Pip_Ivan      2028.5\n",
            "Petros        2022.5\n",
            "Name: Height, m, dtype: float64\n"
          ]
        }
      ]
    },
    {
      "cell_type": "code",
      "source": [
        "# Можна звертатися до рядку даних як до атрибуту послідовності Series:\n",
        "\n",
        "print(mountains_height.Petros)  # 2022.5\n",
        "print(mountains_height.Brebenskyl)  # 2035.8"
      ],
      "metadata": {
        "colab": {
          "base_uri": "https://localhost:8080/"
        },
        "id": "teRZEcwinBt7",
        "outputId": "8d8c51e8-8508-4194-8196-b5f541ce319d"
      },
      "execution_count": 10,
      "outputs": [
        {
          "output_type": "stream",
          "name": "stdout",
          "text": [
            "2022.5\n",
            "2035.8\n"
          ]
        }
      ]
    },
    {
      "cell_type": "code",
      "source": [
        "# Операції порівняння та фільтрації об'єкта Series за допомогою логічних операцій створюють новий об'єкт Series\n",
        "\n",
        "print(mountains_height > 2030) # повертає об'єкт Series з логічними значеннями"
      ],
      "metadata": {
        "colab": {
          "base_uri": "https://localhost:8080/"
        },
        "id": "vR5Z6ZYFnBxD",
        "outputId": "b5b7f750-0c64-4b4b-8151-5ddd4e15a8de"
      },
      "execution_count": 11,
      "outputs": [
        {
          "output_type": "stream",
          "name": "stdout",
          "text": [
            "Goverla            True\n",
            "Brebenskyl         True\n",
            "Pip_Ivan          False\n",
            "Petros            False\n",
            "Gutin_Tomnatik    False\n",
            "Name: Height, m, dtype: bool\n"
          ]
        }
      ]
    },
    {
      "cell_type": "code",
      "source": [
        "print(mountains_height[mountains_height > 2030])  # повертає об'єкт Series з елементами, які задовольняють умову\n"
      ],
      "metadata": {
        "colab": {
          "base_uri": "https://localhost:8080/"
        },
        "id": "bmreyf7CnBz7",
        "outputId": "bf5ccdc5-89fb-43ec-a8de-4924275cf260"
      },
      "execution_count": 12,
      "outputs": [
        {
          "output_type": "stream",
          "name": "stdout",
          "text": [
            "Goverla       2061.0\n",
            "Brebenskyl    2035.8\n",
            "Name: Height, m, dtype: float64\n"
          ]
        }
      ]
    },
    {
      "cell_type": "code",
      "source": [
        "# Операції перевірки на існування елемента в Series використовують індекс, а не значення:\n",
        "\n",
        "print(\"Goverla\" in mountains_height)  # True"
      ],
      "metadata": {
        "colab": {
          "base_uri": "https://localhost:8080/"
        },
        "id": "EmpDqbw2mpY5",
        "outputId": "76f26bd6-bbdb-4cc9-b036-4bcb7b830d4c"
      },
      "execution_count": 13,
      "outputs": [
        {
          "output_type": "stream",
          "name": "stdout",
          "text": [
            "True\n"
          ]
        }
      ]
    },
    {
      "cell_type": "code",
      "source": [
        "sort_index = mountains_height.sort_index()\n",
        "print(sort_index)"
      ],
      "metadata": {
        "colab": {
          "base_uri": "https://localhost:8080/"
        },
        "id": "owrKMF_0ndYX",
        "outputId": "1f97e318-1cb3-4e6a-b974-3b473ade41ff"
      },
      "execution_count": 14,
      "outputs": [
        {
          "output_type": "stream",
          "name": "stdout",
          "text": [
            "Brebenskyl        2035.8\n",
            "Goverla           2061.0\n",
            "Gutin_Tomnatik    2016.4\n",
            "Petros            2022.5\n",
            "Pip_Ivan          2028.5\n",
            "Name: Height, m, dtype: float64\n"
          ]
        }
      ]
    },
    {
      "cell_type": "code",
      "source": [
        "mountains_height.sort_values( inplace=True, ascending=True)  # inplace=True - змінює об'єкт Series, а не повертає новий\n",
        "print(mountains_height)"
      ],
      "metadata": {
        "colab": {
          "base_uri": "https://localhost:8080/"
        },
        "id": "R_IR5-4Yndb9",
        "outputId": "3894bcb1-1bcb-41ac-c392-08c03d516787"
      },
      "execution_count": 19,
      "outputs": [
        {
          "output_type": "stream",
          "name": "stdout",
          "text": [
            "Gutin_Tomnatik    2016.4\n",
            "Petros            2022.5\n",
            "Pip_Ivan          2028.5\n",
            "Brebenskyl        2035.8\n",
            "Goverla           2061.0\n",
            "Name: Height, m, dtype: float64\n"
          ]
        }
      ]
    },
    {
      "cell_type": "code",
      "source": [
        "# Метод apply дозволяє застосовувати користувацьку функцію до кожного елемента Series.\n",
        "\n",
        "def square(x):\n",
        "    return x**2\n",
        "\n",
        "\n",
        "squared_height = mountains_height.apply(square)\n",
        "print(squared_height)"
      ],
      "metadata": {
        "colab": {
          "base_uri": "https://localhost:8080/"
        },
        "id": "dBIRqAVUndfH",
        "outputId": "225aa046-5e91-4fbc-e93d-b36247a70aeb"
      },
      "execution_count": 20,
      "outputs": [
        {
          "output_type": "stream",
          "name": "stdout",
          "text": [
            "Gutin_Tomnatik    4065868.96\n",
            "Petros            4090506.25\n",
            "Pip_Ivan          4114812.25\n",
            "Brebenskyl        4144481.64\n",
            "Goverla           4247721.00\n",
            "Name: Height, m, dtype: float64\n"
          ]
        }
      ]
    },
    {
      "cell_type": "code",
      "source": [
        "#pip install matplotlib"
      ],
      "metadata": {
        "id": "7oIrMfVFndji"
      },
      "execution_count": 21,
      "outputs": []
    },
    {
      "cell_type": "code",
      "source": [
        "# Також Pandas пропонує простий спосіб візуалізації даних в Series.\n",
        "\n",
        "mountains_height.plot(kind='bar')"
      ],
      "metadata": {
        "colab": {
          "base_uri": "https://localhost:8080/",
          "height": 541
        },
        "id": "I7zzOZBNndmp",
        "outputId": "51f88343-6552-4558-ce52-f54b0d3b02ce"
      },
      "execution_count": 22,
      "outputs": [
        {
          "output_type": "execute_result",
          "data": {
            "text/plain": [
              "<Axes: >"
            ]
          },
          "metadata": {},
          "execution_count": 22
        },
        {
          "output_type": "display_data",
          "data": {
            "text/plain": [
              "<Figure size 640x480 with 1 Axes>"
            ],
            "image/png": "[encoded data removed]"
          },
          "metadata": {}
        }
      ]
    },
    {
      "cell_type": "code",
      "source": [
        "# Метод concat який дозволяє з'єднувати два або більше об'єктів Series в один.\n",
        "\n",
        "other_mountains = pd.Series([2001.1, 1998.4], index=[\"Rebra\", \"Menchul\"])\n",
        "all_mountains = pd.concat([mountains_height, other_mountains])\n",
        "print(all_mountains)"
      ],
      "metadata": {
        "colab": {
          "base_uri": "https://localhost:8080/"
        },
        "id": "hEKCtRI_ot2Z",
        "outputId": "2043f9d5-52d4-4ecf-ec0e-48b247caf4d7"
      },
      "execution_count": 23,
      "outputs": [
        {
          "output_type": "stream",
          "name": "stdout",
          "text": [
            "Gutin_Tomnatik    2016.4\n",
            "Petros            2022.5\n",
            "Pip_Ivan          2028.5\n",
            "Brebenskyl        2035.8\n",
            "Goverla           2061.0\n",
            "Rebra             2001.1\n",
            "Menchul           1998.4\n",
            "dtype: float64\n"
          ]
        }
      ]
    }
  ]
}